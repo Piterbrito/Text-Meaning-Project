{
 "cells": [
  {
   "cell_type": "code",
   "execution_count": 2,
   "metadata": {},
   "outputs": [],
   "source": [
    "import pandas as pd\n",
    "import numpy as np\n",
    "import matplotlib.pyplot as plt\n",
    "%matplotlib inline\n",
    "import re\n",
    "from textblob import TextBlob\n",
    "from wordcloud import WordCloud"
   ]
  },
  {
   "cell_type": "code",
   "execution_count": 3,
   "metadata": {},
   "outputs": [
    {
     "data": {
      "text/html": [
       "<div>\n",
       "<style scoped>\n",
       "    .dataframe tbody tr th:only-of-type {\n",
       "        vertical-align: middle;\n",
       "    }\n",
       "\n",
       "    .dataframe tbody tr th {\n",
       "        vertical-align: top;\n",
       "    }\n",
       "\n",
       "    .dataframe thead th {\n",
       "        text-align: right;\n",
       "    }\n",
       "</style>\n",
       "<table border=\"1\" class=\"dataframe\">\n",
       "  <thead>\n",
       "    <tr style=\"text-align: right;\">\n",
       "      <th></th>\n",
       "      <th>Tweets</th>\n",
       "      <th>len</th>\n",
       "      <th>ID</th>\n",
       "      <th>Date</th>\n",
       "      <th>Source</th>\n",
       "      <th>Likes</th>\n",
       "      <th>RT</th>\n",
       "    </tr>\n",
       "  </thead>\n",
       "  <tbody>\n",
       "    <tr>\n",
       "      <th>0</th>\n",
       "      <td>NDA Government is honoured to have undertaken ...</td>\n",
       "      <td>140</td>\n",
       "      <td>1092709705909071872</td>\n",
       "      <td>2019-02-05 09:01:10</td>\n",
       "      <td>Twitter Web Client</td>\n",
       "      <td>14005</td>\n",
       "      <td>3223</td>\n",
       "    </tr>\n",
       "    <tr>\n",
       "      <th>1</th>\n",
       "      <td>India is home to a dynamic middle class, which...</td>\n",
       "      <td>139</td>\n",
       "      <td>1092709704340402176</td>\n",
       "      <td>2019-02-05 09:01:09</td>\n",
       "      <td>Twitter Web Client</td>\n",
       "      <td>19746</td>\n",
       "      <td>4303</td>\n",
       "    </tr>\n",
       "    <tr>\n",
       "      <th>2</th>\n",
       "      <td>Today, on #WorldCancerDay we reiterate our com...</td>\n",
       "      <td>139</td>\n",
       "      <td>1092355257496027136</td>\n",
       "      <td>2019-02-04 09:32:43</td>\n",
       "      <td>Twitter Web Client</td>\n",
       "      <td>13104</td>\n",
       "      <td>2508</td>\n",
       "    </tr>\n",
       "    <tr>\n",
       "      <th>3</th>\n",
       "      <td>Congratulated @DrKrishanMiddha Ji for the rema...</td>\n",
       "      <td>140</td>\n",
       "      <td>1092353308654620672</td>\n",
       "      <td>2019-02-04 09:24:58</td>\n",
       "      <td>Twitter Web Client</td>\n",
       "      <td>19282</td>\n",
       "      <td>3314</td>\n",
       "    </tr>\n",
       "    <tr>\n",
       "      <th>4</th>\n",
       "      <td>I salute all those who are valiantly fighting ...</td>\n",
       "      <td>140</td>\n",
       "      <td>1092352936825344000</td>\n",
       "      <td>2019-02-04 09:23:29</td>\n",
       "      <td>Twitter Web Client</td>\n",
       "      <td>28141</td>\n",
       "      <td>5306</td>\n",
       "    </tr>\n",
       "  </tbody>\n",
       "</table>\n",
       "</div>"
      ],
      "text/plain": [
       "                                              Tweets  len  \\\n",
       "0  NDA Government is honoured to have undertaken ...  140   \n",
       "1  India is home to a dynamic middle class, which...  139   \n",
       "2  Today, on #WorldCancerDay we reiterate our com...  139   \n",
       "3  Congratulated @DrKrishanMiddha Ji for the rema...  140   \n",
       "4  I salute all those who are valiantly fighting ...  140   \n",
       "\n",
       "                    ID                 Date              Source  Likes    RT  \n",
       "0  1092709705909071872  2019-02-05 09:01:10  Twitter Web Client  14005  3223  \n",
       "1  1092709704340402176  2019-02-05 09:01:09  Twitter Web Client  19746  4303  \n",
       "2  1092355257496027136  2019-02-04 09:32:43  Twitter Web Client  13104  2508  \n",
       "3  1092353308654620672  2019-02-04 09:24:58  Twitter Web Client  19282  3314  \n",
       "4  1092352936825344000  2019-02-04 09:23:29  Twitter Web Client  28141  5306  "
      ]
     },
     "execution_count": 3,
     "metadata": {},
     "output_type": "execute_result"
    }
   ],
   "source": [
    "data = pd.read_csv(\"candidate.csv\")\n",
    "data = data.drop(['Unnamed: 0'], axis=1)\n",
    "data.head()"
   ]
  },
  {
   "cell_type": "code",
   "execution_count": 4,
   "metadata": {},
   "outputs": [],
   "source": [
    "fav_max = np.max(data['Likes'])\n",
    "rt_max = np.max(data['RT'])\n",
    "fav_min = np.min(data['Likes'])\n",
    "fav = data[data.Likes == fav_max].index[0]\n",
    "rt = data[data.RT == rt_max].index[0]\n",
    "fav_tweet = data['Tweets'][fav]\n",
    "rt_tweet = data['Tweets'][rt]\n",
    "least_fav = data['Tweets'][fav_min]"
   ]
  },
  {
   "cell_type": "code",
   "execution_count": 5,
   "metadata": {},
   "outputs": [
    {
     "name": "stdout",
     "output_type": "stream",
     "text": [
      "The tweet with maximum likes is : \n",
      "Happy Republic Day to all fellow Indians. \n",
      "\n",
      "सभी देशवासियों को #गणतंत्रदिवस की शुभकामनाएं।\n",
      "\n",
      "जय हिन्द!\n",
      "Number of likes: 79420\n",
      "\n",
      "The tweet with more retweets is: \n",
      "They got together in Kolkata with no agenda but to stop BJP.\n",
      "\n",
      "They talk of democracy in a state where the ruling pa… https://t.co/LP1UbBxuJW\n",
      "Number of retweets: 20230\n",
      "\n",
      "The tweet with minimum likes is : \n",
      "NDA Government is honoured to have undertaken numerous steps for the wellbeing of the middle class. From a friendli… https://t.co/2cTfnoj8pE\n",
      "Number of likes: 0\n"
     ]
    }
   ],
   "source": [
    "print(f\"The tweet with maximum likes is : \\n{fav_tweet}\")\n",
    "print(f\"Number of likes: {fav_max}\")\n",
    "print(f\"\\nThe tweet with more retweets is: \\n{rt_tweet}\")\n",
    "print(f\"Number of retweets: {rt_max}\")\n",
    "print(f\"\\nThe tweet with minimum likes is : \\n{least_fav}\")\n",
    "print(f\"Number of likes: {fav_min}\")"
   ]
  },
  {
   "cell_type": "code",
   "execution_count": 6,
   "metadata": {},
   "outputs": [
    {
     "data": {
      "text/plain": [
       "<matplotlib.axes._subplots.AxesSubplot at 0x24b6b615390>"
      ]
     },
     "execution_count": 6,
     "metadata": {},
     "output_type": "execute_result"
    },
    {
     "data": {
      "image/png": "[encoded data removed]",
      "text/plain": [
       "<Figure size 1296x288 with 1 Axes>"
      ]
     },
     "metadata": {
      "needs_background": "light"
     },
     "output_type": "display_data"
    }
   ],
   "source": [
    "RT_t = pd.Series(data = data['RT'].values)\n",
    "fav_t = pd.Series(data = data['Likes'].values)\n",
    "RT_t.plot(figsize =(18,4),label=\"Retweets\", color ='r',legend=True)\n",
    "fav_t.plot(figsize=(18,4), label=\"Likes\", color = 'b', legend=True)"
   ]
  },
  {
   "cell_type": "code",
   "execution_count": 7,
   "metadata": {},
   "outputs": [
    {
     "data": {
      "text/html": [
       "<div>\n",
       "<style scoped>\n",
       "    .dataframe tbody tr th:only-of-type {\n",
       "        vertical-align: middle;\n",
       "    }\n",
       "\n",
       "    .dataframe tbody tr th {\n",
       "        vertical-align: top;\n",
       "    }\n",
       "\n",
       "    .dataframe thead th {\n",
       "        text-align: right;\n",
       "    }\n",
       "</style>\n",
       "<table border=\"1\" class=\"dataframe\">\n",
       "  <thead>\n",
       "    <tr style=\"text-align: right;\">\n",
       "      <th></th>\n",
       "      <th>Tweets</th>\n",
       "      <th>len</th>\n",
       "      <th>ID</th>\n",
       "      <th>Date</th>\n",
       "      <th>Source</th>\n",
       "      <th>Likes</th>\n",
       "      <th>RT</th>\n",
       "      <th>SA</th>\n",
       "      <th>tidy tweet</th>\n",
       "    </tr>\n",
       "  </thead>\n",
       "  <tbody>\n",
       "    <tr>\n",
       "      <th>0</th>\n",
       "      <td>NDA Government is honoured to have undertaken ...</td>\n",
       "      <td>140</td>\n",
       "      <td>1092709705909071872</td>\n",
       "      <td>2019-02-05 09:01:10</td>\n",
       "      <td>Twitter Web Client</td>\n",
       "      <td>14005</td>\n",
       "      <td>3223</td>\n",
       "      <td>0</td>\n",
       "      <td>NDA Government is honoured to have undertaken ...</td>\n",
       "    </tr>\n",
       "    <tr>\n",
       "      <th>1</th>\n",
       "      <td>India is home to a dynamic middle class, which...</td>\n",
       "      <td>139</td>\n",
       "      <td>1092709704340402176</td>\n",
       "      <td>2019-02-05 09:01:09</td>\n",
       "      <td>Twitter Web Client</td>\n",
       "      <td>19746</td>\n",
       "      <td>4303</td>\n",
       "      <td>1</td>\n",
       "      <td>India is home to a dynamic middle class which ...</td>\n",
       "    </tr>\n",
       "    <tr>\n",
       "      <th>2</th>\n",
       "      <td>Today, on #WorldCancerDay we reiterate our com...</td>\n",
       "      <td>139</td>\n",
       "      <td>1092355257496027136</td>\n",
       "      <td>2019-02-04 09:32:43</td>\n",
       "      <td>Twitter Web Client</td>\n",
       "      <td>13104</td>\n",
       "      <td>2508</td>\n",
       "      <td>1</td>\n",
       "      <td>Today on WorldCancerDay we reiterate our commi...</td>\n",
       "    </tr>\n",
       "    <tr>\n",
       "      <th>3</th>\n",
       "      <td>Congratulated @DrKrishanMiddha Ji for the rema...</td>\n",
       "      <td>140</td>\n",
       "      <td>1092353308654620672</td>\n",
       "      <td>2019-02-04 09:24:58</td>\n",
       "      <td>Twitter Web Client</td>\n",
       "      <td>19282</td>\n",
       "      <td>3314</td>\n",
       "      <td>1</td>\n",
       "      <td>Congratulated Ji for the remarkable win in Jin...</td>\n",
       "    </tr>\n",
       "    <tr>\n",
       "      <th>4</th>\n",
       "      <td>I salute all those who are valiantly fighting ...</td>\n",
       "      <td>140</td>\n",
       "      <td>1092352936825344000</td>\n",
       "      <td>2019-02-04 09:23:29</td>\n",
       "      <td>Twitter Web Client</td>\n",
       "      <td>28141</td>\n",
       "      <td>5306</td>\n",
       "      <td>1</td>\n",
       "      <td>I salute all those who are valiantly fighting ...</td>\n",
       "    </tr>\n",
       "  </tbody>\n",
       "</table>\n",
       "</div>"
      ],
      "text/plain": [
       "                                              Tweets  len  \\\n",
       "0  NDA Government is honoured to have undertaken ...  140   \n",
       "1  India is home to a dynamic middle class, which...  139   \n",
       "2  Today, on #WorldCancerDay we reiterate our com...  139   \n",
       "3  Congratulated @DrKrishanMiddha Ji for the rema...  140   \n",
       "4  I salute all those who are valiantly fighting ...  140   \n",
       "\n",
       "                    ID                 Date              Source  Likes    RT  \\\n",
       "0  1092709705909071872  2019-02-05 09:01:10  Twitter Web Client  14005  3223   \n",
       "1  1092709704340402176  2019-02-05 09:01:09  Twitter Web Client  19746  4303   \n",
       "2  1092355257496027136  2019-02-04 09:32:43  Twitter Web Client  13104  2508   \n",
       "3  1092353308654620672  2019-02-04 09:24:58  Twitter Web Client  19282  3314   \n",
       "4  1092352936825344000  2019-02-04 09:23:29  Twitter Web Client  28141  5306   \n",
       "\n",
       "   SA                                         tidy tweet  \n",
       "0   0  NDA Government is honoured to have undertaken ...  \n",
       "1   1  India is home to a dynamic middle class which ...  \n",
       "2   1  Today on WorldCancerDay we reiterate our commi...  \n",
       "3   1  Congratulated Ji for the remarkable win in Jin...  \n",
       "4   1  I salute all those who are valiantly fighting ...  "
      ]
     },
     "execution_count": 7,
     "metadata": {},
     "output_type": "execute_result"
    }
   ],
   "source": [
    "# function to clean tweet and to perform sentiment analysis\n",
    "\n",
    "def clean_tweet(tweet):\n",
    "    return ' '.join(re.sub(\"(@[A-Za-z0-9]+)|([^0-9A-Za-z \\t])|(\\w+:\\/\\/\\S+)\", \" \",tweet).split())\n",
    "def analyze_sentiment(tweet):\n",
    "    analysis = TextBlob(clean_tweet(tweet))\n",
    "    if analysis.sentiment.polarity >0:\n",
    "        return 1\n",
    "    elif analysis.sentiment.polarity == 0:\n",
    "        return 0\n",
    "    else:\n",
    "        return -1\n",
    "data['SA'] = np.array([analyze_sentiment(tweet) for tweet in data[\"Tweets\"]])\n",
    "data['tidy tweet'] = np.array([clean_tweet(tweet) for tweet in data['Tweets']])\n",
    "data.head()"
   ]
  },
  {
   "cell_type": "code",
   "execution_count": 8,
   "metadata": {},
   "outputs": [],
   "source": [
    "positive =[]\n",
    "negative =[]\n",
    "neutral =[]\n",
    "for value in data['SA']:\n",
    "    if value >0:\n",
    "        positive.append(data['Tweets'])\n",
    "    elif value <0:\n",
    "        negative.append(data['Tweets'])\n",
    "    else:\n",
    "        neutral.append(data['Tweets'])"
   ]
  },
  {
   "cell_type": "code",
   "execution_count": 11,
   "metadata": {},
   "outputs": [
    {
     "data": {
      "image/png": "[encoded data removed]",
      "text/plain": [
       "<Figure size 432x288 with 1 Axes>"
      ]
     },
     "metadata": {},
     "output_type": "display_data"
    }
   ],
   "source": [
    "tweet_count =[len(positive),len(negative),len(neutral)]\n",
    "labels = [\"positive\", \"negative\", \"neutral\"]\n",
    "colors =['b','r','g']\n",
    "plt.pie(tweet_count,labels=labels,colors=colors, autopct=\"%0.1f%%\", startangle=160)\n",
    "plt.title(\"Sentimental Analysis of Tweets\")\n",
    "plt.show()"
   ]
  },
  {
   "cell_type": "code",
   "execution_count": null,
   "metadata": {},
   "outputs": [],
   "source": []
  }
 ],
 "metadata": {
  "kernelspec": {
   "display_name": "Python 3",
   "language": "python",
   "name": "python3"
  },
  "language_info": {
   "codemirror_mode": {
    "name": "ipython",
    "version": 3
   },
   "file_extension": ".py",
   "mimetype": "text/x-python",
   "name": "python",
   "nbconvert_exporter": "python",
   "pygments_lexer": "ipython3",
   "version": "3.7.0"
  }
 },
 "nbformat": 4,
 "nbformat_minor": 2
}
